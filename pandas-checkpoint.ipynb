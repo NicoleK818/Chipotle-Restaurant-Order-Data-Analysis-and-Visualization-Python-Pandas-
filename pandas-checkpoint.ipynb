{
 "cells": [
  {
   "cell_type": "markdown",
   "metadata": {
    "id": "ohNwk_KO_ZfE"
   },
   "source": [
    "# Visualizing Chipotle's Data"
   ]
  },
  {
   "cell_type": "markdown",
   "metadata": {
    "id": "rKk9poxq_ZfF"
   },
   "source": [
    "Special thanks to: https://github.com/justmarkham for sharing the dataset and materials.\n",
    "\n",
    "### Step 1. Import the necessary libraries"
   ]
  },
  {
   "cell_type": "code",
   "execution_count": null,
   "metadata": {
    "id": "9067DaZD_ZfG"
   },
   "outputs": [],
   "source": [
    "import pandas as pd"
   ]
  },
  {
   "cell_type": "markdown",
   "metadata": {
    "id": "c-Nq8zAq_ZfH"
   },
   "source": [
    "### Step 2. Import the dataset (chipotle.tsv). "
   ]
  },
  {
   "cell_type": "code",
   "execution_count": null,
   "metadata": {
    "id": "tx6t6nHR_ZfH"
   },
   "outputs": [],
   "source": [
    "df = pd.read_csv('chipotle.tsv', sep='\\t')"
   ]
  },
  {
   "cell_type": "markdown",
   "metadata": {
    "id": "scq3xWVt_ZfH"
   },
   "source": [
    "### Step 3. Assign it to a variable called chipo."
   ]
  },
  {
   "cell_type": "code",
   "execution_count": null,
   "metadata": {
    "id": "Y9_sSOIb_ZfI"
   },
   "outputs": [],
   "source": [
    "chipo = pd.read_csv('chipotle.tsv', sep='\\t')"
   ]
  },
  {
   "cell_type": "markdown",
   "metadata": {
    "id": "f_ioEubM_w8b"
   },
   "source": [
    "### Step 4. Show the average of the column item_price"
   ]
  },
  {
   "cell_type": "code",
   "execution_count": null,
   "metadata": {
    "id": "MYgSxifV_6PR"
   },
   "outputs": [],
   "source": [
    "print(\"Average item_price:\", chipo['item_price'].mean())"
   ]
  },
  {
   "cell_type": "markdown",
   "metadata": {
    "id": "XtJKEs1f_7Ap"
   },
   "source": [
    "### Step 5. Count the number of occurrences for \"Chicken Bowl\""
   ]
  },
  {
   "cell_type": "code",
   "execution_count": null,
   "metadata": {
    "id": "T0jObdNeAFmU"
   },
   "outputs": [],
   "source": [
    "chicken_bowl_count = (chipo['item_name'] == 'Chicken Bowl').sum()\n",
    "print(\"Chicken Bowl出现的次数：\", chicken_bowl_count)"
   ]
  },
  {
   "cell_type": "markdown",
   "metadata": {
    "id": "wbMOTcxuAF9c"
   },
   "source": [
    "### Step 6. Count the number of items with ``NULL``as the choice_description"
   ]
  },
  {
   "cell_type": "code",
   "execution_count": null,
   "metadata": {},
   "outputs": [],
   "source": [
    "null_count = chipo['choice_description'].isnull().sum()\n",
    "print(\"Number of items with NULL as the choice_description:\", null_count)"
   ]
  },
  {
   "cell_type": "markdown",
   "metadata": {
    "id": "QyFTgGz2_ZfI"
   },
   "source": [
    "### Step 7. Show the first 10 entries"
   ]
  },
  {
   "cell_type": "code",
   "execution_count": null,
   "metadata": {
    "id": "hyAzAmHw_ZfJ",
    "scrolled": true
   },
   "outputs": [],
   "source": [
    "head_10 = chipo.head(10)\n",
    "print(\"the first 10 entries:\")\n",
    "print(head_10)"
   ]
  },
  {
   "cell_type": "markdown",
   "metadata": {
    "id": "pMKLqbNy_ZfJ"
   },
   "source": [
    "### Step 8. Create a bar plot of the top 5 items bought (total quantity per item)\n",
    "Think simple... It is possible to do with what you know. No extras needed.\n"
   ]
  },
  {
   "cell_type": "code",
   "execution_count": null,
   "metadata": {
    "id": "mnwJQlOQ_ZfK"
   },
   "outputs": [],
   "source": [
    "import matplotlib.pyplot as plt\n",
    "\n",
    "# 1. 统计每个商品的总数量\n",
    "item_quantity = chipo.groupby('item_name')['quantity'].sum()\n",
    "\n",
    "# 2. 取前5名\n",
    "top5 = item_quantity.sort_values(ascending=False).head(5)\n",
    "\n",
    "# 3. 画条形图\n",
    "top5.plot(kind='bar')\n",
    "plt.title('Top 5 Items Bought (Total Quantity)')\n",
    "plt.xlabel('Item Name')\n",
    "plt.ylabel('Total Quantity')\n",
    "plt.show()"
   ]
  },
  {
   "cell_type": "markdown",
   "metadata": {
    "id": "re1JmdT6_ZfK"
   },
   "source": [
    "### Step 9. Create a scatterplot with the number of items orderered per order price\n",
    "#### Hint: Price should be in the X-axis and Items ordered in the Y-axis\n",
    "(You can groupby and use the result)"
   ]
  },
  {
   "cell_type": "code",
   "execution_count": null,
   "metadata": {
    "id": "4VjkwE9J_ZfK"
   },
   "outputs": [],
   "source": [
    "import matplotlib.pyplot as plt\n",
    "\n",
    "# 1. 按订单分组，统计每个订单的总价和商品总数\n",
    "order_stats = chipo.groupby('order_id').agg({\n",
    "    'item_price': 'sum',\n",
    "    'quantity': 'sum'\n",
    "})\n",
    "\n",
    "# 2. 画散点图\n",
    "order_stats.plot(kind='scatter', x='item_price', y='quantity', alpha=0.5)\n",
    "plt.title('A scatterplot with the number of items ordered per order price')\n",
    "plt.xlabel('Order Price')\n",
    "plt.ylabel('Number of Items Ordered')\n",
    "plt.show()"
   ]
  }
 ],
 "metadata": {
  "colab": {
   "collapsed_sections": [],
   "provenance": []
  },
  "kernelspec": {
   "display_name": "Python 3 (ipykernel)",
   "language": "python",
   "name": "python3"
  },
  "language_info": {
   "codemirror_mode": {
    "name": "ipython",
    "version": 3
   },
   "file_extension": ".py",
   "mimetype": "text/x-python",
   "name": "python",
   "nbconvert_exporter": "python",
   "pygments_lexer": "ipython3",
   "version": "3.11.0"
  }
 },
 "nbformat": 4,
 "nbformat_minor": 4
}
